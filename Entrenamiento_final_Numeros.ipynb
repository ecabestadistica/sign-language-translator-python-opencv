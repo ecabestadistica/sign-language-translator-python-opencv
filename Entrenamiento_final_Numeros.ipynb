{
  "nbformat": 4,
  "nbformat_minor": 0,
  "metadata": {
    "colab": {
      "name": "Entrenamiento_final_Numeros.ipynb",
      "provenance": [],
      "collapsed_sections": []
    },
    "kernelspec": {
      "name": "python3",
      "display_name": "Python 3"
    },
    "accelerator": "GPU"
  },
  "cells": [
    {
      "cell_type": "code",
      "metadata": {
        "id": "6FKIDyx5NARF",
        "colab_type": "code",
        "outputId": "0e433fea-5ed5-43f6-d44f-849757bfb87e",
        "colab": {
          "base_uri": "https://localhost:8080/",
          "height": 34
        }
      },
      "source": [
        "#Traemos el dataset desde la pagina de github\n",
        "!git clone https://github.com/ardamavi/Sign-Language-Digits-Dataset.git"
      ],
      "execution_count": 0,
      "outputs": [
        {
          "output_type": "stream",
          "text": [
            "fatal: destination path 'Sign-Language-Digits-Dataset' already exists and is not an empty directory.\n"
          ],
          "name": "stdout"
        }
      ]
    },
    {
      "cell_type": "code",
      "metadata": {
        "id": "A87rQqMO-g2k",
        "colab_type": "code",
        "outputId": "f85d0298-64bb-4294-b77c-e94d0997a648",
        "colab": {
          "base_uri": "https://localhost:8080/",
          "height": 80
        }
      },
      "source": [
        "import tensorflow as tf\n",
        "\n",
        "print(tf.__version__)\n",
        "\n",
        "from tensorflow.keras.models                import Sequential, Model\n",
        "from tensorflow.keras.layers                import *\n",
        "from tensorflow.keras.preprocessing.image   import ImageDataGenerator\n",
        "from tensorflow.keras.utils                 import to_categorical\n",
        "from tensorflow.keras.optimizers            import SGD, RMSprop, Adam, Adagrad, Adadelta\n",
        "\n",
        "from sklearn.model_selection import train_test_split\n",
        "from sklearn.metrics import confusion_matrix, accuracy_score\n",
        "from sklearn.utils import class_weight\n",
        "\n",
        "import matplotlib.pyplot as plt\n",
        "import random\n",
        "import cv2\n",
        "import pandas as pd\n",
        "import numpy as np\n",
        "import matplotlib.gridspec as gridspec\n",
        "import seaborn as sns\n",
        "import sklearn\n",
        "import scipy\n",
        "import skimage\n",
        "from skimage.transform import resize\n",
        "from tqdm import tqdm\n",
        "from sklearn import model_selection\n",
        "from sklearn.model_selection import train_test_split, learning_curve,KFold,cross_val_score,StratifiedKFold\n",
        "from sklearn.utils import class_weight\n",
        "from sklearn.metrics import confusion_matrix"
      ],
      "execution_count": 0,
      "outputs": [
        {
          "output_type": "display_data",
          "data": {
            "text/html": [
              "<p style=\"color: red;\">\n",
              "The default version of TensorFlow in Colab will soon switch to TensorFlow 2.x.<br>\n",
              "We recommend you <a href=\"https://www.tensorflow.org/guide/migrate\" target=\"_blank\">upgrade</a> now \n",
              "or ensure your notebook will continue to use TensorFlow 1.x via the <code>%tensorflow_version 1.x</code> magic:\n",
              "<a href=\"https://colab.research.google.com/notebooks/tensorflow_version.ipynb\" target=\"_blank\">more info</a>.</p>\n"
            ],
            "text/plain": [
              "<IPython.core.display.HTML object>"
            ]
          },
          "metadata": {
            "tags": []
          }
        },
        {
          "output_type": "stream",
          "text": [
            "1.15.0\n"
          ],
          "name": "stdout"
        }
      ]
    },
    {
      "cell_type": "code",
      "metadata": {
        "id": "S6I75lgKTNvF",
        "colab_type": "code",
        "outputId": "90212d10-9e13-4170-a59a-0cd615a55f10",
        "colab": {
          "base_uri": "https://localhost:8080/",
          "height": 51
        }
      },
      "source": [
        "from tensorflow.keras.preprocessing.image   import ImageDataGenerator\n",
        "\n",
        "##Clasificamos las imagenes\n",
        "bs = 32 #bach size\n",
        "k = 2\n",
        "# Generador de imágenes de entrenamiento.\n",
        "train_datagen = ImageDataGenerator(\n",
        "        rescale=1./255,\n",
        "        shear_range=(0.3),\n",
        "        zoom_range=(0.3),\n",
        "        width_shift_range=(0.2),\n",
        "        height_shift_range=(0.2),\n",
        "        validation_split = 0.2,\n",
        "        brightness_range=(0.05,0.85),\n",
        "        horizontal_flip=False)\n",
        "\n",
        "# Carga de imágenes al generador de entrenamiento desde directorio.\n",
        "train_generator = train_datagen.flow_from_directory(\n",
        "        '/content/Sign-Language-Digits-Dataset/Dataset',\n",
        "        class_mode='categorical',\n",
        "        shuffle=True,\n",
        "        target_size=(28*k, 28*k),\n",
        "        color_mode = 'rgb', \n",
        "        subset = 'training',\n",
        "        batch_size=bs)\n",
        "\n",
        "valid_generator = train_datagen.flow_from_directory(\n",
        "        '/content/Sign-Language-Digits-Dataset/Dataset',\n",
        "        class_mode='categorical',\n",
        "        shuffle=True,\n",
        "        target_size=(28*k, 28*k),\n",
        "        color_mode = 'rgb', \n",
        "        subset = 'validation',\n",
        "        batch_size=bs)"
      ],
      "execution_count": 0,
      "outputs": [
        {
          "output_type": "stream",
          "text": [
            "Found 1653 images belonging to 10 classes.\n",
            "Found 409 images belonging to 10 classes.\n"
          ],
          "name": "stdout"
        }
      ]
    },
    {
      "cell_type": "code",
      "metadata": {
        "id": "2MvgQw6kYZ3X",
        "colab_type": "code",
        "outputId": "eeb845cc-7198-4cc1-d340-e29b38641377",
        "colab": {
          "base_uri": "https://localhost:8080/",
          "height": 267
        }
      },
      "source": [
        "#Printeado de imagenes despues de haber pasado por el generador\n",
        "\n",
        "plt.imshow(next(train_generator)[0][2,...,0])\n",
        "plt.show()"
      ],
      "execution_count": 0,
      "outputs": [
        {
          "output_type": "display_data",
          "data": {
            "image/png": "[encoded data removed]",
            "text/plain": [
              "<Figure size 432x288 with 1 Axes>"
            ]
          },
          "metadata": {
            "tags": []
          }
        }
      ]
    },
    {
      "cell_type": "code",
      "metadata": {
        "id": "cYMbkAZQZi8g",
        "colab_type": "code",
        "outputId": "70ff4390-0a49-45ba-d604-8aec06827905",
        "colab": {
          "base_uri": "https://localhost:8080/",
          "height": 34
        }
      },
      "source": [
        "#Para saber a qué clase se le asocia a cada letra\n",
        "print(train_generator.class_indices)"
      ],
      "execution_count": 0,
      "outputs": [
        {
          "output_type": "stream",
          "text": [
            "{'0': 0, '1': 1, '2': 2, '3': 3, '4': 4, '5': 5, '6': 6, '7': 7, '8': 8, '9': 9}\n"
          ],
          "name": "stdout"
        }
      ]
    },
    {
      "cell_type": "code",
      "metadata": {
        "id": "5zx8nLTiUnnd",
        "colab_type": "code",
        "outputId": "a2811eaa-c117-4cc3-b2f3-08aeaec15745",
        "colab": {
          "base_uri": "https://localhost:8080/",
          "height": 1000
        }
      },
      "source": [
        "#Visualizamos la estructura del modelo que vamos a utilizar\n",
        "model = tf.keras.applications.VGG19()\n",
        "model.summary()\n",
        "print(len(model.layers))"
      ],
      "execution_count": 0,
      "outputs": [
        {
          "output_type": "stream",
          "text": [
            "WARNING:tensorflow:From /usr/local/lib/python3.6/dist-packages/tensorflow_core/python/ops/resource_variable_ops.py:1630: calling BaseResourceVariable.__init__ (from tensorflow.python.ops.resource_variable_ops) with constraint is deprecated and will be removed in a future version.\n",
            "Instructions for updating:\n",
            "If using Keras pass *_constraint arguments to layers.\n",
            "Model: \"vgg19\"\n",
            "_________________________________________________________________\n",
            "Layer (type)                 Output Shape              Param #   \n",
            "=================================================================\n",
            "input_1 (InputLayer)         [(None, 224, 224, 3)]     0         \n",
            "_________________________________________________________________\n",
            "block1_conv1 (Conv2D)        (None, 224, 224, 64)      1792      \n",
            "_________________________________________________________________\n",
            "block1_conv2 (Conv2D)        (None, 224, 224, 64)      36928     \n",
            "_________________________________________________________________\n",
            "block1_pool (MaxPooling2D)   (None, 112, 112, 64)      0         \n",
            "_________________________________________________________________\n",
            "block2_conv1 (Conv2D)        (None, 112, 112, 128)     73856     \n",
            "_________________________________________________________________\n",
            "block2_conv2 (Conv2D)        (None, 112, 112, 128)     147584    \n",
            "_________________________________________________________________\n",
            "block2_pool (MaxPooling2D)   (None, 56, 56, 128)       0         \n",
            "_________________________________________________________________\n",
            "block3_conv1 (Conv2D)        (None, 56, 56, 256)       295168    \n",
            "_________________________________________________________________\n",
            "block3_conv2 (Conv2D)        (None, 56, 56, 256)       590080    \n",
            "_________________________________________________________________\n",
            "block3_conv3 (Conv2D)        (None, 56, 56, 256)       590080    \n",
            "_________________________________________________________________\n",
            "block3_conv4 (Conv2D)        (None, 56, 56, 256)       590080    \n",
            "_________________________________________________________________\n",
            "block3_pool (MaxPooling2D)   (None, 28, 28, 256)       0         \n",
            "_________________________________________________________________\n",
            "block4_conv1 (Conv2D)        (None, 28, 28, 512)       1180160   \n",
            "_________________________________________________________________\n",
            "block4_conv2 (Conv2D)        (None, 28, 28, 512)       2359808   \n",
            "_________________________________________________________________\n",
            "block4_conv3 (Conv2D)        (None, 28, 28, 512)       2359808   \n",
            "_________________________________________________________________\n",
            "block4_conv4 (Conv2D)        (None, 28, 28, 512)       2359808   \n",
            "_________________________________________________________________\n",
            "block4_pool (MaxPooling2D)   (None, 14, 14, 512)       0         \n",
            "_________________________________________________________________\n",
            "block5_conv1 (Conv2D)        (None, 14, 14, 512)       2359808   \n",
            "_________________________________________________________________\n",
            "block5_conv2 (Conv2D)        (None, 14, 14, 512)       2359808   \n",
            "_________________________________________________________________\n",
            "block5_conv3 (Conv2D)        (None, 14, 14, 512)       2359808   \n",
            "_________________________________________________________________\n",
            "block5_conv4 (Conv2D)        (None, 14, 14, 512)       2359808   \n",
            "_________________________________________________________________\n",
            "block5_pool (MaxPooling2D)   (None, 7, 7, 512)         0         \n",
            "_________________________________________________________________\n",
            "flatten (Flatten)            (None, 25088)             0         \n",
            "_________________________________________________________________\n",
            "fc1 (Dense)                  (None, 4096)              102764544 \n",
            "_________________________________________________________________\n",
            "fc2 (Dense)                  (None, 4096)              16781312  \n",
            "_________________________________________________________________\n",
            "predictions (Dense)          (None, 1000)              4097000   \n",
            "=================================================================\n",
            "Total params: 143,667,240\n",
            "Trainable params: 143,667,240\n",
            "Non-trainable params: 0\n",
            "_________________________________________________________________\n",
            "26\n"
          ],
          "name": "stdout"
        }
      ]
    },
    {
      "cell_type": "code",
      "metadata": {
        "id": "IeT5Ya8qy15l",
        "colab_type": "code",
        "outputId": "6611f15f-2336-4516-d236-a3f5ea1d1b11",
        "colab": {
          "base_uri": "https://localhost:8080/",
          "height": 34
        }
      },
      "source": [
        "##DEFINIMOS EL MODELO\n",
        "num_classes = 10\n",
        "epochs = 50\n",
        "\n",
        "# VGG19\n",
        "# Importamos el modelo que queremos utilizar con los argumentos que queremos\n",
        "VGG19_model = tf.keras.applications.VGG19(input_shape=(28*k,28*k,3),\n",
        "                                          include_top=False,\n",
        "                                          weights='imagenet')\n",
        "\n",
        "print(len(VGG19_model.layers))\n",
        "#Congelamos  las 6 primeras caps del modelo para proceder a entrenar las demás\n",
        "for layer in VGG19_model.layers[:6]:\n",
        "  layer.trainable = False\n",
        "\n",
        "# Creamos un nuevo modelo vacio.\n",
        "model = tf.keras.Sequential()\n",
        "\n",
        "# Añadimos el modelo preentrenado como si se tratase de una capa.\n",
        "model.add(VGG19_model)\n",
        "\n",
        "# Continuamos añadiendo más capas que sí serán entrenadas...\n",
        "from tensorflow.keras import regularizers\n",
        "model.add(Flatten())\n",
        "model.add(Dropout(0.25))\n",
        "model.add(Dense(64, kernel_regularizer=regularizers.l2(0.01), activation = 'relu'))\n",
        "model.add(Dropout(0.25))\n",
        "model.add(Dense(num_classes, activation = 'softmax'))"
      ],
      "execution_count": 0,
      "outputs": [
        {
          "output_type": "stream",
          "text": [
            "22\n"
          ],
          "name": "stdout"
        }
      ]
    },
    {
      "cell_type": "code",
      "metadata": {
        "id": "x6ikkpdVRoJl",
        "colab_type": "code",
        "outputId": "2b08131d-8a9d-481b-d6b7-e248f13c69ad",
        "colab": {
          "base_uri": "https://localhost:8080/",
          "height": 1000
        }
      },
      "source": [
        "## EJECUCION DEL MODELO\n",
        "model.compile(loss=\"categorical_crossentropy\", \n",
        "              optimizer= SGD(learning_rate=0.001),\n",
        "              metrics=['accuracy'])\n",
        "\n",
        "#Agregamos un callback\n",
        "from tensorflow.keras.callbacks import ModelCheckpoint\n",
        "from tensorflow.keras.callbacks import ReduceLROnPlateau\n",
        "\n",
        "checkpointer = ModelCheckpoint(filepath='model', verbose=1, save_best_only=True,\n",
        "                               monitor = 'val_acc', mode = 'max')\n",
        "reduce_lr = ReduceLROnPlateau(monitor='val_loss', factor=0.2,\n",
        "                              patience=3, min_lr=0.000001)\n",
        "\n",
        "history= model.fit_generator(train_generator,validation_data = valid_generator, \n",
        "                             callbacks = [reduce_lr, checkpointer], epochs=epochs)"
      ],
      "execution_count": 0,
      "outputs": [
        {
          "output_type": "stream",
          "text": [
            "Epoch 1/50\n",
            "51/52 [============================>.] - ETA: 0s - loss: 3.5143 - acc: 0.1573Epoch 1/50\n",
            "13/52 [======>.......................] - ETA: 10s - loss: 3.3115 - acc: 0.2616\n",
            "Epoch 00001: val_acc improved from -inf to 0.26161, saving model to model\n",
            "52/52 [==============================] - 14s 270ms/step - loss: 3.5121 - acc: 0.1579 - val_loss: 3.3115 - val_acc: 0.2616\n",
            "Epoch 2/50\n",
            "51/52 [============================>.] - ETA: 0s - loss: 3.2749 - acc: 0.2320Epoch 1/50\n",
            "13/52 [======>.......................] - ETA: 8s - loss: 3.1280 - acc: 0.2861\n",
            "Epoch 00002: val_acc improved from 0.26161 to 0.28606, saving model to model\n",
            "52/52 [==============================] - 10s 192ms/step - loss: 3.2716 - acc: 0.2353 - val_loss: 3.1280 - val_acc: 0.2861\n",
            "Epoch 3/50\n",
            "51/52 [============================>.] - ETA: 0s - loss: 3.0456 - acc: 0.3134Epoch 1/50\n",
            "13/52 [======>.......................] - ETA: 8s - loss: 2.9390 - acc: 0.3570\n",
            "Epoch 00003: val_acc improved from 0.28606 to 0.35697, saving model to model\n",
            "52/52 [==============================] - 10s 198ms/step - loss: 3.0405 - acc: 0.3170 - val_loss: 2.9390 - val_acc: 0.3570\n",
            "Epoch 4/50\n",
            "51/52 [============================>.] - ETA: 0s - loss: 2.7915 - acc: 0.4115Epoch 1/50\n",
            "13/52 [======>.......................] - ETA: 8s - loss: 2.7518 - acc: 0.4425\n",
            "Epoch 00004: val_acc improved from 0.35697 to 0.44254, saving model to model\n",
            "52/52 [==============================] - 10s 190ms/step - loss: 2.7937 - acc: 0.4108 - val_loss: 2.7518 - val_acc: 0.4425\n",
            "Epoch 5/50\n",
            "51/52 [============================>.] - ETA: 0s - loss: 2.6296 - acc: 0.4540Epoch 1/50\n",
            "13/52 [======>.......................] - ETA: 8s - loss: 2.4227 - acc: 0.5721\n",
            "Epoch 00005: val_acc improved from 0.44254 to 0.57213, saving model to model\n",
            "52/52 [==============================] - 10s 196ms/step - loss: 2.6254 - acc: 0.4543 - val_loss: 2.4227 - val_acc: 0.5721\n",
            "Epoch 6/50\n",
            "51/52 [============================>.] - ETA: 0s - loss: 2.4816 - acc: 0.5139Epoch 1/50\n",
            "13/52 [======>.......................] - ETA: 8s - loss: 2.3184 - acc: 0.6186\n",
            "Epoch 00006: val_acc improved from 0.57213 to 0.61858, saving model to model\n",
            "52/52 [==============================] - 10s 187ms/step - loss: 2.4749 - acc: 0.5166 - val_loss: 2.3184 - val_acc: 0.6186\n",
            "Epoch 7/50\n",
            "51/52 [============================>.] - ETA: 0s - loss: 2.3117 - acc: 0.5793Epoch 1/50\n",
            "13/52 [======>.......................] - ETA: 8s - loss: 2.2157 - acc: 0.6064\n",
            "Epoch 00007: val_acc did not improve from 0.61858\n",
            "52/52 [==============================] - 10s 196ms/step - loss: 2.3076 - acc: 0.5802 - val_loss: 2.2157 - val_acc: 0.6064\n",
            "Epoch 8/50\n",
            "51/52 [============================>.] - ETA: 0s - loss: 2.1464 - acc: 0.6477Epoch 1/50\n",
            "13/52 [======>.......................] - ETA: 8s - loss: 2.2476 - acc: 0.5892\n",
            "Epoch 00008: val_acc did not improve from 0.61858\n",
            "52/52 [==============================] - 9s 182ms/step - loss: 2.1570 - acc: 0.6443 - val_loss: 2.2476 - val_acc: 0.5892\n",
            "Epoch 9/50\n",
            "51/52 [============================>.] - ETA: 0s - loss: 2.0348 - acc: 0.6897Epoch 1/50\n",
            "13/52 [======>.......................] - ETA: 8s - loss: 1.9169 - acc: 0.7433\n",
            "Epoch 00009: val_acc improved from 0.61858 to 0.74328, saving model to model\n",
            "52/52 [==============================] - 10s 192ms/step - loss: 2.0350 - acc: 0.6878 - val_loss: 1.9169 - val_acc: 0.7433\n",
            "Epoch 10/50\n",
            "51/52 [============================>.] - ETA: 0s - loss: 1.9181 - acc: 0.7304Epoch 1/50\n",
            "13/52 [======>.......................] - ETA: 8s - loss: 1.8931 - acc: 0.7408\n",
            "Epoch 00010: val_acc did not improve from 0.74328\n",
            "52/52 [==============================] - 10s 185ms/step - loss: 1.9146 - acc: 0.7314 - val_loss: 1.8931 - val_acc: 0.7408\n",
            "Epoch 11/50\n",
            "51/52 [============================>.] - ETA: 0s - loss: 1.8010 - acc: 0.7841Epoch 1/50\n",
            "13/52 [======>.......................] - ETA: 8s - loss: 1.8714 - acc: 0.7531\n",
            "Epoch 00011: val_acc improved from 0.74328 to 0.75306, saving model to model\n",
            "52/52 [==============================] - 10s 193ms/step - loss: 1.8056 - acc: 0.7804 - val_loss: 1.8714 - val_acc: 0.7531\n",
            "Epoch 12/50\n",
            "51/52 [============================>.] - ETA: 0s - loss: 1.7377 - acc: 0.7896Epoch 1/50\n",
            "13/52 [======>.......................] - ETA: 9s - loss: 1.7712 - acc: 0.7531\n",
            "Epoch 00012: val_acc did not improve from 0.75306\n",
            "52/52 [==============================] - 10s 190ms/step - loss: 1.7363 - acc: 0.7883 - val_loss: 1.7712 - val_acc: 0.7531\n",
            "Epoch 13/50\n",
            "51/52 [============================>.] - ETA: 0s - loss: 1.6510 - acc: 0.8273Epoch 1/50\n",
            "13/52 [======>.......................] - ETA: 8s - loss: 1.8626 - acc: 0.7359\n",
            "Epoch 00013: val_acc did not improve from 0.75306\n",
            "52/52 [==============================] - 10s 186ms/step - loss: 1.6515 - acc: 0.8276 - val_loss: 1.8626 - val_acc: 0.7359\n",
            "Epoch 14/50\n",
            "51/52 [============================>.] - ETA: 0s - loss: 1.6245 - acc: 0.8248Epoch 1/50\n",
            "13/52 [======>.......................] - ETA: 8s - loss: 1.5581 - acc: 0.8631\n",
            "Epoch 00014: val_acc improved from 0.75306 to 0.86308, saving model to model\n",
            "52/52 [==============================] - 10s 192ms/step - loss: 1.6170 - acc: 0.8276 - val_loss: 1.5581 - val_acc: 0.8631\n",
            "Epoch 15/50\n",
            "51/52 [============================>.] - ETA: 0s - loss: 1.5522 - acc: 0.8544Epoch 1/50\n",
            "13/52 [======>.......................] - ETA: 8s - loss: 1.6277 - acc: 0.7946\n",
            "Epoch 00015: val_acc did not improve from 0.86308\n",
            "52/52 [==============================] - 10s 186ms/step - loss: 1.5515 - acc: 0.8542 - val_loss: 1.6277 - val_acc: 0.7946\n",
            "Epoch 16/50\n",
            "51/52 [============================>.] - ETA: 0s - loss: 1.5048 - acc: 0.8674Epoch 1/50\n",
            "13/52 [======>.......................] - ETA: 8s - loss: 1.6238 - acc: 0.8240\n",
            "Epoch 00016: val_acc did not improve from 0.86308\n",
            "52/52 [==============================] - 10s 188ms/step - loss: 1.5092 - acc: 0.8681 - val_loss: 1.6238 - val_acc: 0.8240\n",
            "Epoch 17/50\n",
            "51/52 [============================>.] - ETA: 0s - loss: 1.4556 - acc: 0.8846Epoch 1/50\n",
            "13/52 [======>.......................] - ETA: 8s - loss: 1.5625 - acc: 0.8313\n",
            "Epoch 00017: val_acc did not improve from 0.86308\n",
            "52/52 [==============================] - 10s 194ms/step - loss: 1.4688 - acc: 0.8832 - val_loss: 1.5625 - val_acc: 0.8313\n",
            "Epoch 18/50\n",
            "51/52 [============================>.] - ETA: 0s - loss: 1.4171 - acc: 0.9025Epoch 1/50\n",
            "13/52 [======>.......................] - ETA: 8s - loss: 1.4887 - acc: 0.8435\n",
            "Epoch 00018: val_acc did not improve from 0.86308\n",
            "52/52 [==============================] - 10s 190ms/step - loss: 1.4132 - acc: 0.9038 - val_loss: 1.4887 - val_acc: 0.8435\n",
            "Epoch 19/50\n",
            "51/52 [============================>.] - ETA: 0s - loss: 1.3714 - acc: 0.9222Epoch 1/50\n",
            "13/52 [======>.......................] - ETA: 8s - loss: 1.5529 - acc: 0.8509\n",
            "Epoch 00019: val_acc did not improve from 0.86308\n",
            "52/52 [==============================] - 10s 190ms/step - loss: 1.3736 - acc: 0.9214 - val_loss: 1.5529 - val_acc: 0.8509\n",
            "Epoch 20/50\n",
            "51/52 [============================>.] - ETA: 0s - loss: 1.3913 - acc: 0.9087Epoch 1/50\n",
            "13/52 [======>.......................] - ETA: 8s - loss: 1.5603 - acc: 0.8582\n",
            "Epoch 00020: val_acc did not improve from 0.86308\n",
            "52/52 [==============================] - 10s 188ms/step - loss: 1.3900 - acc: 0.9087 - val_loss: 1.5603 - val_acc: 0.8582\n",
            "Epoch 21/50\n",
            "51/52 [============================>.] - ETA: 0s - loss: 1.3596 - acc: 0.9167Epoch 1/50\n",
            "13/52 [======>.......................] - ETA: 8s - loss: 1.4764 - acc: 0.8851\n",
            "Epoch 00021: val_acc improved from 0.86308 to 0.88509, saving model to model\n",
            "52/52 [==============================] - 10s 192ms/step - loss: 1.3574 - acc: 0.9183 - val_loss: 1.4764 - val_acc: 0.8851\n",
            "Epoch 22/50\n",
            "51/52 [============================>.] - ETA: 0s - loss: 1.3611 - acc: 0.9241Epoch 1/50\n",
            "13/52 [======>.......................] - ETA: 9s - loss: 1.5321 - acc: 0.8435\n",
            "Epoch 00022: val_acc did not improve from 0.88509\n",
            "52/52 [==============================] - 10s 194ms/step - loss: 1.3594 - acc: 0.9244 - val_loss: 1.5321 - val_acc: 0.8435\n",
            "Epoch 23/50\n",
            "51/52 [============================>.] - ETA: 0s - loss: 1.3538 - acc: 0.9210Epoch 1/50\n",
            "13/52 [======>.......................] - ETA: 8s - loss: 1.4388 - acc: 0.8704\n",
            "Epoch 00023: val_acc did not improve from 0.88509\n",
            "52/52 [==============================] - 10s 190ms/step - loss: 1.3508 - acc: 0.9226 - val_loss: 1.4388 - val_acc: 0.8704\n",
            "Epoch 24/50\n",
            "51/52 [============================>.] - ETA: 0s - loss: 1.3632 - acc: 0.9217Epoch 1/50\n",
            "13/52 [======>.......................] - ETA: 8s - loss: 1.4785 - acc: 0.8729\n",
            "Epoch 00024: val_acc did not improve from 0.88509\n",
            "52/52 [==============================] - 10s 183ms/step - loss: 1.3629 - acc: 0.9214 - val_loss: 1.4785 - val_acc: 0.8729\n",
            "Epoch 25/50\n",
            "51/52 [============================>.] - ETA: 0s - loss: 1.3382 - acc: 0.9210Epoch 1/50\n",
            "13/52 [======>.......................] - ETA: 8s - loss: 1.4598 - acc: 0.8924\n",
            "Epoch 00025: val_acc improved from 0.88509 to 0.89242, saving model to model\n",
            "52/52 [==============================] - 10s 196ms/step - loss: 1.3503 - acc: 0.9189 - val_loss: 1.4598 - val_acc: 0.8924\n",
            "Epoch 26/50\n",
            "51/52 [============================>.] - ETA: 0s - loss: 1.3588 - acc: 0.9217Epoch 1/50\n",
            "13/52 [======>.......................] - ETA: 8s - loss: 1.4474 - acc: 0.8802\n",
            "Epoch 00026: val_acc did not improve from 0.89242\n",
            "52/52 [==============================] - 10s 186ms/step - loss: 1.3559 - acc: 0.9226 - val_loss: 1.4474 - val_acc: 0.8802\n",
            "Epoch 27/50\n",
            "51/52 [============================>.] - ETA: 0s - loss: 1.3573 - acc: 0.9223Epoch 1/50\n",
            "13/52 [======>.......................] - ETA: 8s - loss: 1.4258 - acc: 0.9095\n",
            "Epoch 00027: val_acc improved from 0.89242 to 0.90954, saving model to model\n",
            "52/52 [==============================] - 10s 195ms/step - loss: 1.3551 - acc: 0.9226 - val_loss: 1.4258 - val_acc: 0.9095\n",
            "Epoch 28/50\n",
            "51/52 [============================>.] - ETA: 0s - loss: 1.3211 - acc: 0.9395Epoch 1/50\n",
            "13/52 [======>.......................] - ETA: 8s - loss: 1.4501 - acc: 0.8802\n",
            "Epoch 00028: val_acc did not improve from 0.90954\n",
            "52/52 [==============================] - 10s 189ms/step - loss: 1.3242 - acc: 0.9371 - val_loss: 1.4501 - val_acc: 0.8802\n",
            "Epoch 29/50\n",
            "51/52 [============================>.] - ETA: 0s - loss: 1.3541 - acc: 0.9198Epoch 1/50\n",
            "13/52 [======>.......................] - ETA: 9s - loss: 1.4489 - acc: 0.8729\n",
            "Epoch 00029: val_acc did not improve from 0.90954\n",
            "52/52 [==============================] - 10s 191ms/step - loss: 1.3543 - acc: 0.9201 - val_loss: 1.4489 - val_acc: 0.8729\n",
            "Epoch 30/50\n",
            "51/52 [============================>.] - ETA: 0s - loss: 1.3245 - acc: 0.9315Epoch 1/50\n",
            "13/52 [======>.......................] - ETA: 8s - loss: 1.3929 - acc: 0.9071\n",
            "Epoch 00030: val_acc did not improve from 0.90954\n",
            "52/52 [==============================] - 10s 188ms/step - loss: 1.3256 - acc: 0.9310 - val_loss: 1.3929 - val_acc: 0.9071\n",
            "Epoch 31/50\n",
            "51/52 [============================>.] - ETA: 0s - loss: 1.3223 - acc: 0.9266Epoch 1/50\n",
            "13/52 [======>.......................] - ETA: 8s - loss: 1.4460 - acc: 0.8875\n",
            "Epoch 00031: val_acc did not improve from 0.90954\n",
            "52/52 [==============================] - 10s 187ms/step - loss: 1.3199 - acc: 0.9274 - val_loss: 1.4460 - val_acc: 0.8875\n",
            "Epoch 32/50\n",
            "51/52 [============================>.] - ETA: 0s - loss: 1.3417 - acc: 0.9284Epoch 1/50\n",
            "13/52 [======>.......................] - ETA: 9s - loss: 1.4578 - acc: 0.8875\n",
            "Epoch 00032: val_acc did not improve from 0.90954\n",
            "52/52 [==============================] - 10s 190ms/step - loss: 1.3399 - acc: 0.9292 - val_loss: 1.4578 - val_acc: 0.8875\n",
            "Epoch 33/50\n",
            "51/52 [============================>.] - ETA: 0s - loss: 1.3199 - acc: 0.9328Epoch 1/50\n",
            "13/52 [======>.......................] - ETA: 8s - loss: 1.4397 - acc: 0.8949\n",
            "Epoch 00033: val_acc did not improve from 0.90954\n",
            "52/52 [==============================] - 10s 188ms/step - loss: 1.3187 - acc: 0.9335 - val_loss: 1.4397 - val_acc: 0.8949\n",
            "Epoch 34/50\n",
            "51/52 [============================>.] - ETA: 0s - loss: 1.3341 - acc: 0.9284Epoch 1/50\n",
            "13/52 [======>.......................] - ETA: 8s - loss: 1.4941 - acc: 0.8557\n",
            "Epoch 00034: val_acc did not improve from 0.90954\n",
            "52/52 [==============================] - 10s 190ms/step - loss: 1.3347 - acc: 0.9292 - val_loss: 1.4941 - val_acc: 0.8557\n",
            "Epoch 35/50\n",
            "51/52 [============================>.] - ETA: 0s - loss: 1.3459 - acc: 0.9266Epoch 1/50\n",
            "13/52 [======>.......................] - ETA: 8s - loss: 1.4614 - acc: 0.8875\n",
            "Epoch 00035: val_acc did not improve from 0.90954\n",
            "52/52 [==============================] - 10s 190ms/step - loss: 1.3461 - acc: 0.9268 - val_loss: 1.4614 - val_acc: 0.8875\n",
            "Epoch 36/50\n",
            "51/52 [============================>.] - ETA: 0s - loss: 1.3481 - acc: 0.9278Epoch 1/50\n",
            "13/52 [======>.......................] - ETA: 8s - loss: 1.4440 - acc: 0.8851\n",
            "Epoch 00036: val_acc did not improve from 0.90954\n",
            "52/52 [==============================] - 10s 187ms/step - loss: 1.3453 - acc: 0.9286 - val_loss: 1.4440 - val_acc: 0.8851\n",
            "Epoch 37/50\n",
            "51/52 [============================>.] - ETA: 0s - loss: 1.3278 - acc: 0.9346Epoch 1/50\n",
            "13/52 [======>.......................] - ETA: 8s - loss: 1.4339 - acc: 0.8826\n",
            "Epoch 00037: val_acc did not improve from 0.90954\n",
            "52/52 [==============================] - 10s 192ms/step - loss: 1.3254 - acc: 0.9359 - val_loss: 1.4339 - val_acc: 0.8826\n",
            "Epoch 38/50\n",
            "51/52 [============================>.] - ETA: 0s - loss: 1.3200 - acc: 0.9297Epoch 1/50\n",
            "13/52 [======>.......................] - ETA: 9s - loss: 1.4562 - acc: 0.8631\n",
            "Epoch 00038: val_acc did not improve from 0.90954\n",
            "52/52 [==============================] - 10s 195ms/step - loss: 1.3218 - acc: 0.9292 - val_loss: 1.4562 - val_acc: 0.8631\n",
            "Epoch 39/50\n",
            "51/52 [============================>.] - ETA: 0s - loss: 1.3121 - acc: 0.9291Epoch 1/50\n",
            "13/52 [======>.......................] - ETA: 8s - loss: 1.4288 - acc: 0.8802\n",
            "Epoch 00039: val_acc did not improve from 0.90954\n",
            "52/52 [==============================] - 10s 188ms/step - loss: 1.3128 - acc: 0.9292 - val_loss: 1.4288 - val_acc: 0.8802\n",
            "Epoch 40/50\n",
            "51/52 [============================>.] - ETA: 0s - loss: 1.3203 - acc: 0.9315Epoch 1/50\n",
            "13/52 [======>.......................] - ETA: 8s - loss: 1.4264 - acc: 0.8998\n",
            "Epoch 00040: val_acc did not improve from 0.90954\n",
            "52/52 [==============================] - 10s 188ms/step - loss: 1.3242 - acc: 0.9310 - val_loss: 1.4264 - val_acc: 0.8998\n",
            "Epoch 41/50\n",
            "51/52 [============================>.] - ETA: 0s - loss: 1.3281 - acc: 0.9272Epoch 1/50\n",
            "13/52 [======>.......................] - ETA: 9s - loss: 1.4401 - acc: 0.8900\n",
            "Epoch 00041: val_acc did not improve from 0.90954\n",
            "52/52 [==============================] - 10s 195ms/step - loss: 1.3277 - acc: 0.9262 - val_loss: 1.4401 - val_acc: 0.8900\n",
            "Epoch 42/50\n",
            "51/52 [============================>.] - ETA: 0s - loss: 1.3225 - acc: 0.9278Epoch 1/50\n",
            "13/52 [======>.......................] - ETA: 8s - loss: 1.4470 - acc: 0.8778\n",
            "Epoch 00042: val_acc did not improve from 0.90954\n",
            "52/52 [==============================] - 10s 188ms/step - loss: 1.3201 - acc: 0.9286 - val_loss: 1.4470 - val_acc: 0.8778\n",
            "Epoch 43/50\n",
            "51/52 [============================>.] - ETA: 0s - loss: 1.3288 - acc: 0.9260Epoch 1/50\n",
            "13/52 [======>.......................] - ETA: 8s - loss: 1.4529 - acc: 0.8778\n",
            "Epoch 00043: val_acc did not improve from 0.90954\n",
            "52/52 [==============================] - 10s 193ms/step - loss: 1.3317 - acc: 0.9256 - val_loss: 1.4529 - val_acc: 0.8778\n",
            "Epoch 44/50\n",
            "51/52 [============================>.] - ETA: 0s - loss: 1.3181 - acc: 0.9365Epoch 1/50\n",
            "13/52 [======>.......................] - ETA: 8s - loss: 1.4350 - acc: 0.8998\n",
            "Epoch 00044: val_acc did not improve from 0.90954\n",
            "52/52 [==============================] - 10s 191ms/step - loss: 1.3174 - acc: 0.9359 - val_loss: 1.4350 - val_acc: 0.8998\n",
            "Epoch 45/50\n",
            "51/52 [============================>.] - ETA: 0s - loss: 1.3276 - acc: 0.9272Epoch 1/50\n",
            "13/52 [======>.......................] - ETA: 8s - loss: 1.4187 - acc: 0.8900\n",
            "Epoch 00045: val_acc did not improve from 0.90954\n",
            "52/52 [==============================] - 10s 188ms/step - loss: 1.3294 - acc: 0.9262 - val_loss: 1.4187 - val_acc: 0.8900\n",
            "Epoch 46/50\n",
            "51/52 [============================>.] - ETA: 0s - loss: 1.3338 - acc: 0.9321Epoch 1/50\n",
            "13/52 [======>.......................] - ETA: 8s - loss: 1.4442 - acc: 0.8729\n",
            "Epoch 00046: val_acc did not improve from 0.90954\n",
            "52/52 [==============================] - 10s 191ms/step - loss: 1.3351 - acc: 0.9316 - val_loss: 1.4442 - val_acc: 0.8729\n",
            "Epoch 47/50\n",
            "51/52 [============================>.] - ETA: 0s - loss: 1.3505 - acc: 0.9266Epoch 1/50\n",
            "13/52 [======>.......................] - ETA: 8s - loss: 1.4933 - acc: 0.8680\n",
            "Epoch 00047: val_acc did not improve from 0.90954\n",
            "52/52 [==============================] - 10s 187ms/step - loss: 1.3505 - acc: 0.9262 - val_loss: 1.4933 - val_acc: 0.8680\n",
            "Epoch 48/50\n",
            "51/52 [============================>.] - ETA: 0s - loss: 1.3333 - acc: 0.9309Epoch 1/50\n",
            "13/52 [======>.......................] - ETA: 8s - loss: 1.4577 - acc: 0.8802\n",
            "Epoch 00048: val_acc did not improve from 0.90954\n",
            "52/52 [==============================] - 10s 189ms/step - loss: 1.3303 - acc: 0.9322 - val_loss: 1.4577 - val_acc: 0.8802\n",
            "Epoch 49/50\n",
            "51/52 [============================>.] - ETA: 0s - loss: 1.3079 - acc: 0.9346Epoch 1/50\n",
            "13/52 [======>.......................] - ETA: 8s - loss: 1.4388 - acc: 0.8753\n",
            "Epoch 00049: val_acc did not improve from 0.90954\n",
            "52/52 [==============================] - 10s 188ms/step - loss: 1.3073 - acc: 0.9353 - val_loss: 1.4388 - val_acc: 0.8753\n",
            "Epoch 50/50\n",
            "51/52 [============================>.] - ETA: 0s - loss: 1.3293 - acc: 0.9229Epoch 1/50\n",
            "13/52 [======>.......................] - ETA: 9s - loss: 1.4559 - acc: 0.8900\n",
            "Epoch 00050: val_acc did not improve from 0.90954\n",
            "52/52 [==============================] - 10s 189ms/step - loss: 1.3335 - acc: 0.9226 - val_loss: 1.4559 - val_acc: 0.8900\n"
          ],
          "name": "stdout"
        }
      ]
    },
    {
      "cell_type": "markdown",
      "metadata": {
        "id": "fSoZJufayWRq",
        "colab_type": "text"
      },
      "source": [
        ""
      ]
    },
    {
      "cell_type": "code",
      "metadata": {
        "id": "Qvu8W0S3SQrC",
        "colab_type": "code",
        "outputId": "ff0b4ea2-e519-477f-b258-06f82956e143",
        "colab": {
          "base_uri": "https://localhost:8080/",
          "height": 295
        }
      },
      "source": [
        "plt.plot(history.history['val_loss'])\n",
        "plt.plot(history.history['loss'])\n",
        "plt.title(\"Loss\")\n",
        "plt.xlabel('epoch')\n",
        "plt.ylabel('loss')\n",
        "plt.legend(['val_loss','loss'])\n",
        "plt.show()"
      ],
      "execution_count": 0,
      "outputs": [
        {
          "output_type": "display_data",
          "data": {
            "image/png": "[encoded data removed]",
            "text/plain": [
              "<Figure size 432x288 with 1 Axes>"
            ]
          },
          "metadata": {
            "tags": []
          }
        }
      ]
    }
  ]
}