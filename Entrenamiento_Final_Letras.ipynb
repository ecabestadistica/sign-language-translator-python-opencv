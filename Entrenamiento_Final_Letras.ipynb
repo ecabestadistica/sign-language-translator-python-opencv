{
  "nbformat": 4,
  "nbformat_minor": 0,
  "metadata": {
    "colab": {
      "name": "Copia de Entrenamiento final Letras.ipynb",
      "provenance": [],
      "collapsed_sections": [],
      "include_colab_link": true
    },
    "kernelspec": {
      "name": "python3",
      "display_name": "Python 3"
    },
    "accelerator": "GPU"
  },
  "cells": [
    {
      "cell_type": "markdown",
      "metadata": {
        "id": "view-in-github",
        "colab_type": "text"
      },
      "source": [
        "<a href=\"https://colab.research.google.com/github/ecabestadistica/sign-language-translator-python-opencv/blob/master/Entrenamiento_Final_Letras.ipynb\" target=\"_parent\"><img src=\"https://colab.research.google.com/assets/colab-badge.svg\" alt=\"Open In Colab\"/></a>"
      ]
    },
    {
      "cell_type": "code",
      "metadata": {
        "id": "QLlmM6sX_FzE",
        "colab_type": "code",
        "colab": {}
      },
      "source": [
        "#Importamos drive a colab porque es donde tenemos la mezcla de datasets que\n",
        "#vamos a ulizar\n",
        "from google.colab import drive\n",
        "drive.mount('/content/drive')"
      ],
      "execution_count": 0,
      "outputs": []
    },
    {
      "cell_type": "code",
      "metadata": {
        "id": "A87rQqMO-g2k",
        "colab_type": "code",
        "outputId": "6fe64220-e117-4f8b-8634-ff07d860516a",
        "colab": {
          "base_uri": "https://localhost:8080/",
          "height": 80
        }
      },
      "source": [
        "import tensorflow as tf\n",
        "\n",
        "print(tf.__version__)\n",
        "\n",
        "from tensorflow.keras.models                import Sequential, Model\n",
        "from tensorflow.keras.layers                import *\n",
        "from tensorflow.keras.preprocessing.image   import ImageDataGenerator\n",
        "from tensorflow.keras.utils                 import to_categorical\n",
        "from tensorflow.keras.optimizers            import SGD, RMSprop, Adam, Adagrad, Adadelta\n",
        "\n",
        "from sklearn.model_selection import train_test_split\n",
        "from sklearn.metrics import confusion_matrix, accuracy_score\n",
        "from sklearn.utils import class_weight\n",
        "\n",
        "import matplotlib.pyplot as plt\n",
        "import random\n",
        "import cv2\n",
        "import pandas as pd\n",
        "import numpy as np\n",
        "import matplotlib.gridspec as gridspec\n",
        "import seaborn as sns\n",
        "import sklearn\n",
        "import scipy\n",
        "from skimage.transform import resize\n",
        "import csv\n",
        "from tqdm import tqdm\n",
        "from sklearn import model_selection\n",
        "from sklearn.model_selection import train_test_split, learning_curve,KFold,cross_val_score,StratifiedKFold\n",
        "from sklearn.utils import class_weight\n",
        "from sklearn.metrics import confusion_matrix"
      ],
      "execution_count": 2,
      "outputs": [
        {
          "output_type": "display_data",
          "data": {
            "text/html": [
              "<p style=\"color: red;\">\n",
              "The default version of TensorFlow in Colab will soon switch to TensorFlow 2.x.<br>\n",
              "We recommend you <a href=\"https://www.tensorflow.org/guide/migrate\" target=\"_blank\">upgrade</a> now \n",
              "or ensure your notebook will continue to use TensorFlow 1.x via the <code>%tensorflow_version 1.x</code> magic:\n",
              "<a href=\"https://colab.research.google.com/notebooks/tensorflow_version.ipynb\" target=\"_blank\">more info</a>.</p>\n"
            ],
            "text/plain": [
              "<IPython.core.display.HTML object>"
            ]
          },
          "metadata": {
            "tags": []
          }
        },
        {
          "output_type": "stream",
          "text": [
            "1.15.0\n"
          ],
          "name": "stdout"
        }
      ]
    },
    {
      "cell_type": "code",
      "metadata": {
        "id": "a45gvTMV-P-I",
        "colab_type": "code",
        "colab": {}
      },
      "source": [
        "# Para copiar el .zip desde drive a colab\n",
        "!cp /content/drive/My\\ Drive/Mezcla_2.0.zip ../content/Mezcla_2.0.zip\n",
        "\n",
        "# Para descomprimir el .zip\n",
        "!unzip Mezcla_2.0.zip"
      ],
      "execution_count": 0,
      "outputs": []
    },
    {
      "cell_type": "code",
      "metadata": {
        "id": "42SETDH_F0eV",
        "colab_type": "code",
        "outputId": "8536b651-8320-46b7-a9cf-dfea03903e23",
        "colab": {
          "base_uri": "https://localhost:8080/",
          "height": 301
        }
      },
      "source": [
        "#Visualizamos una de las imagenes dentro del dataset\n",
        "from PIL import Image\n",
        "k=2\n",
        "pic = Image.open(\"//content/Mezcla/P/IMG_1318.JPG\") \n",
        "pix = np.array(pic)\n",
        "print(type(pic))\n",
        "\n",
        "plt.imshow(pic.resize((28*k,28*k)))"
      ],
      "execution_count": 4,
      "outputs": [
        {
          "output_type": "stream",
          "text": [
            "<class 'PIL.JpegImagePlugin.JpegImageFile'>\n"
          ],
          "name": "stdout"
        },
        {
          "output_type": "execute_result",
          "data": {
            "text/plain": [
              "<matplotlib.image.AxesImage at 0x7f85a8ebc3c8>"
            ]
          },
          "metadata": {
            "tags": []
          },
          "execution_count": 4
        },
        {
          "output_type": "display_data",
          "data": {
            "image/png": "[encoded data removed]",
            "text/plain": [
              "<Figure size 432x288 with 1 Axes>"
            ]
          },
          "metadata": {
            "tags": []
          }
        }
      ]
    },
    {
      "cell_type": "code",
      "metadata": {
        "id": "S6I75lgKTNvF",
        "colab_type": "code",
        "outputId": "7f4f9ee6-15b2-42c6-edd5-f8f348de74a0",
        "colab": {
          "base_uri": "https://localhost:8080/",
          "height": 51
        }
      },
      "source": [
        "from tensorflow.keras.preprocessing.image   import ImageDataGenerator\n",
        "\n",
        "#Clasificamos las imagenes\n",
        "bs = 64 #bach size\n",
        "k = 2\n",
        "# Generador de imágenes de entrenamiento.\n",
        "train_datagen = ImageDataGenerator(\n",
        "        rescale=1./255,\n",
        "        shear_range=(0.3),\n",
        "        zoom_range=(0.3),\n",
        "        width_shift_range=(0.2),\n",
        "        height_shift_range=(0.2),\n",
        "        validation_split = 0.2,\n",
        "        brightness_range=(0.05,0.85),\n",
        "        horizontal_flip=False)\n",
        "\n",
        "# Carga de imágenes al generador de entrenamiento desde directorio.\n",
        "train_generator = train_datagen.flow_from_directory(\n",
        "        '/content/Mezcla',\n",
        "        class_mode='categorical',\n",
        "        shuffle=True,\n",
        "        target_size=(28*k, 28*k),\n",
        "        color_mode = 'rgb', \n",
        "        subset = 'training',\n",
        "        batch_size=bs)\n",
        "\n",
        "valid_generator = train_datagen.flow_from_directory(\n",
        "        '/content/Mezcla',\n",
        "        class_mode='categorical',\n",
        "        shuffle=True,\n",
        "        target_size=(28*k, 28*k),\n",
        "        color_mode = 'rgb', \n",
        "        subset = 'validation',\n",
        "        batch_size=bs)"
      ],
      "execution_count": 5,
      "outputs": [
        {
          "output_type": "stream",
          "text": [
            "Found 59616 images belonging to 24 classes.\n",
            "Found 14892 images belonging to 24 classes.\n"
          ],
          "name": "stdout"
        }
      ]
    },
    {
      "cell_type": "code",
      "metadata": {
        "id": "2MvgQw6kYZ3X",
        "colab_type": "code",
        "outputId": "7906e7e1-1564-4772-8666-24be389a91e6",
        "colab": {
          "base_uri": "https://localhost:8080/",
          "height": 267
        }
      },
      "source": [
        "#Printeado de imagenes\n",
        "plt.imshow(next(train_generator)[0][2,...,0])\n",
        "plt.show()"
      ],
      "execution_count": 6,
      "outputs": [
        {
          "output_type": "display_data",
          "data": {
            "image/png": "[encoded data removed]",
            "text/plain": [
              "<Figure size 432x288 with 1 Axes>"
            ]
          },
          "metadata": {
            "tags": []
          }
        }
      ]
    },
    {
      "cell_type": "code",
      "metadata": {
        "id": "cYMbkAZQZi8g",
        "colab_type": "code",
        "outputId": "ceb450fd-ed9e-4249-a6d5-311d84af014d",
        "colab": {
          "base_uri": "https://localhost:8080/",
          "height": 34
        }
      },
      "source": [
        "#Para saber a qué clase se le asocia a cada letra\n",
        "print(train_generator.class_indices)"
      ],
      "execution_count": 7,
      "outputs": [
        {
          "output_type": "stream",
          "text": [
            "{'A': 0, 'B': 1, 'C': 2, 'D': 3, 'E': 4, 'F': 5, 'G': 6, 'H': 7, 'I': 8, 'K': 9, 'L': 10, 'M': 11, 'N': 12, 'O': 13, 'P': 14, 'Q': 15, 'R': 16, 'S': 17, 'T': 18, 'U': 19, 'V': 20, 'W': 21, 'X': 22, 'Y': 23}\n"
          ],
          "name": "stdout"
        }
      ]
    },
    {
      "cell_type": "code",
      "metadata": {
        "id": "5zx8nLTiUnnd",
        "colab_type": "code",
        "outputId": "6b0179c2-9a68-4a03-be25-018658aec519",
        "colab": {
          "base_uri": "https://localhost:8080/",
          "height": 1000
        }
      },
      "source": [
        "#Visualizamos el modelo que vamos a utilizar para el entrenamiento\n",
        "import tensorflow as tf    \n",
        "model = tf.keras.applications.VGG19()\n",
        "model.summary()"
      ],
      "execution_count": 8,
      "outputs": [
        {
          "output_type": "stream",
          "text": [
            "WARNING:tensorflow:From /usr/local/lib/python3.6/dist-packages/tensorflow_core/python/ops/resource_variable_ops.py:1630: calling BaseResourceVariable.__init__ (from tensorflow.python.ops.resource_variable_ops) with constraint is deprecated and will be removed in a future version.\n",
            "Instructions for updating:\n",
            "If using Keras pass *_constraint arguments to layers.\n",
            "Downloading data from https://github.com/fchollet/deep-learning-models/releases/download/v0.1/vgg19_weights_tf_dim_ordering_tf_kernels.h5\n",
            "574717952/574710816 [==============================] - 12s 0us/step\n",
            "Model: \"vgg19\"\n",
            "_________________________________________________________________\n",
            "Layer (type)                 Output Shape              Param #   \n",
            "=================================================================\n",
            "input_1 (InputLayer)         [(None, 224, 224, 3)]     0         \n",
            "_________________________________________________________________\n",
            "block1_conv1 (Conv2D)        (None, 224, 224, 64)      1792      \n",
            "_________________________________________________________________\n",
            "block1_conv2 (Conv2D)        (None, 224, 224, 64)      36928     \n",
            "_________________________________________________________________\n",
            "block1_pool (MaxPooling2D)   (None, 112, 112, 64)      0         \n",
            "_________________________________________________________________\n",
            "block2_conv1 (Conv2D)        (None, 112, 112, 128)     73856     \n",
            "_________________________________________________________________\n",
            "block2_conv2 (Conv2D)        (None, 112, 112, 128)     147584    \n",
            "_________________________________________________________________\n",
            "block2_pool (MaxPooling2D)   (None, 56, 56, 128)       0         \n",
            "_________________________________________________________________\n",
            "block3_conv1 (Conv2D)        (None, 56, 56, 256)       295168    \n",
            "_________________________________________________________________\n",
            "block3_conv2 (Conv2D)        (None, 56, 56, 256)       590080    \n",
            "_________________________________________________________________\n",
            "block3_conv3 (Conv2D)        (None, 56, 56, 256)       590080    \n",
            "_________________________________________________________________\n",
            "block3_conv4 (Conv2D)        (None, 56, 56, 256)       590080    \n",
            "_________________________________________________________________\n",
            "block3_pool (MaxPooling2D)   (None, 28, 28, 256)       0         \n",
            "_________________________________________________________________\n",
            "block4_conv1 (Conv2D)        (None, 28, 28, 512)       1180160   \n",
            "_________________________________________________________________\n",
            "block4_conv2 (Conv2D)        (None, 28, 28, 512)       2359808   \n",
            "_________________________________________________________________\n",
            "block4_conv3 (Conv2D)        (None, 28, 28, 512)       2359808   \n",
            "_________________________________________________________________\n",
            "block4_conv4 (Conv2D)        (None, 28, 28, 512)       2359808   \n",
            "_________________________________________________________________\n",
            "block4_pool (MaxPooling2D)   (None, 14, 14, 512)       0         \n",
            "_________________________________________________________________\n",
            "block5_conv1 (Conv2D)        (None, 14, 14, 512)       2359808   \n",
            "_________________________________________________________________\n",
            "block5_conv2 (Conv2D)        (None, 14, 14, 512)       2359808   \n",
            "_________________________________________________________________\n",
            "block5_conv3 (Conv2D)        (None, 14, 14, 512)       2359808   \n",
            "_________________________________________________________________\n",
            "block5_conv4 (Conv2D)        (None, 14, 14, 512)       2359808   \n",
            "_________________________________________________________________\n",
            "block5_pool (MaxPooling2D)   (None, 7, 7, 512)         0         \n",
            "_________________________________________________________________\n",
            "flatten (Flatten)            (None, 25088)             0         \n",
            "_________________________________________________________________\n",
            "fc1 (Dense)                  (None, 4096)              102764544 \n",
            "_________________________________________________________________\n",
            "fc2 (Dense)                  (None, 4096)              16781312  \n",
            "_________________________________________________________________\n",
            "predictions (Dense)          (None, 1000)              4097000   \n",
            "=================================================================\n",
            "Total params: 143,667,240\n",
            "Trainable params: 143,667,240\n",
            "Non-trainable params: 0\n",
            "_________________________________________________________________\n"
          ],
          "name": "stdout"
        }
      ]
    },
    {
      "cell_type": "code",
      "metadata": {
        "id": "IeT5Ya8qy15l",
        "colab_type": "code",
        "outputId": "a2ee6af3-ee82-4510-849a-d1489c09715e",
        "colab": {
          "base_uri": "https://localhost:8080/",
          "height": 68
        }
      },
      "source": [
        "##DEFINIMOS EL MODELO\n",
        "from tensorflow.keras import regularizers\n",
        "# Batch size, epochs, etc\n",
        "num_classes = 24\n",
        "epochs = 25\n",
        "\n",
        "# VGG19\n",
        "# Importamos el modelo que queremos utilizar.\n",
        "VGG19_model = tf.keras.applications.VGG19(input_shape=(28*k,28*k,3),\n",
        "                                          include_top=False,\n",
        "                                          weights='imagenet')\n",
        "\n",
        "print(len(VGG19_model.layers))\n",
        "#Congelamos las 6 primeras capas del modelo que no seran reentrenadas\n",
        "for layer in VGG19_model.layers[:6]:\n",
        "  layer.trainable = False\n",
        "\n",
        "# Creamos un nuevo modelo vacio.\n",
        "model = tf.keras.Sequential()\n",
        "\n",
        "# Añadimos el modelo preentrenado como si se tratase de una capa.\n",
        "model.add(VGG19_model)\n",
        "\n",
        "# Continuamos añadiendo más capas que sí serán entrenadas...\n",
        "model.add(Flatten())\n",
        "model.add(Dropout(0.25))\n",
        "model.add(Dense(64, kernel_regularizer=regularizers.l2(0.01), activation = 'relu'))\n",
        "model.add(Dropout(0.25))\n",
        "model.add(Dense(num_classes, activation = 'softmax'))"
      ],
      "execution_count": 9,
      "outputs": [
        {
          "output_type": "stream",
          "text": [
            "Downloading data from https://github.com/fchollet/deep-learning-models/releases/download/v0.1/vgg19_weights_tf_dim_ordering_tf_kernels_notop.h5\n",
            "80142336/80134624 [==============================] - 2s 0us/step\n",
            "22\n"
          ],
          "name": "stdout"
        }
      ]
    },
    {
      "cell_type": "code",
      "metadata": {
        "id": "x6ikkpdVRoJl",
        "colab_type": "code",
        "outputId": "30b195bd-990e-489a-c62e-743211ef53f7",
        "colab": {
          "base_uri": "https://localhost:8080/",
          "height": 1000
        }
      },
      "source": [
        "## EJECUCION DEL MODELO\n",
        "\n",
        "model.compile(loss=\"categorical_crossentropy\", \n",
        "              optimizer= SGD(learning_rate=0.01),\n",
        "              metrics=['accuracy'])\n",
        "\n",
        "#Agregamos los callback\n",
        "from tensorflow.keras.callbacks import ModelCheckpoint\n",
        "from tensorflow.keras.callbacks import ReduceLROnPlateau\n",
        "\n",
        "checkpointer = ModelCheckpoint(filepath='model', verbose=1, save_best_only=True,\n",
        "                               monitor = 'val_acc', mode = 'max')\n",
        "reduce_lr = ReduceLROnPlateau(monitor='val_loss', factor=0.2,\n",
        "                              patience=3, min_lr=0.000001)\n",
        "#Procedemos a entrenar\n",
        "history= model.fit_generator(train_generator,\n",
        "                             validation_data = valid_generator, \n",
        "                             callbacks=[reduce_lr, checkpointer], \n",
        "                             epochs=epochs)\n"
      ],
      "execution_count": 10,
      "outputs": [
        {
          "output_type": "stream",
          "text": [
            "Epoch 1/25\n",
            "931/932 [============================>.] - ETA: 0s - loss: 2.4531 - acc: 0.5501Epoch 1/25\n",
            "233/932 [======>.......................] - ETA: 2:00 - loss: 1.6505 - acc: 0.7410\n",
            "Epoch 00001: val_acc improved from -inf to 0.74100, saving model to model\n",
            "932/932 [==============================] - 199s 213ms/step - loss: 2.4520 - acc: 0.5504 - val_loss: 1.6505 - val_acc: 0.7410\n",
            "Epoch 2/25\n",
            "931/932 [============================>.] - ETA: 0s - loss: 1.0310 - acc: 0.8901Epoch 1/25\n",
            "233/932 [======>.......................] - ETA: 1:57 - loss: 1.3016 - acc: 0.7876\n",
            "Epoch 00002: val_acc improved from 0.74100 to 0.78760, saving model to model\n",
            "932/932 [==============================] - 189s 202ms/step - loss: 1.0307 - acc: 0.8901 - val_loss: 1.3016 - val_acc: 0.7876\n",
            "Epoch 3/25\n",
            "931/932 [============================>.] - ETA: 0s - loss: 0.6862 - acc: 0.9328Epoch 1/25\n",
            "233/932 [======>.......................] - ETA: 1:58 - loss: 1.1385 - acc: 0.8062\n",
            "Epoch 00003: val_acc improved from 0.78760 to 0.80620, saving model to model\n",
            "932/932 [==============================] - 189s 203ms/step - loss: 0.6861 - acc: 0.9328 - val_loss: 1.1385 - val_acc: 0.8062\n",
            "Epoch 4/25\n",
            "931/932 [============================>.] - ETA: 0s - loss: 0.4930 - acc: 0.9496Epoch 1/25\n",
            "233/932 [======>.......................] - ETA: 1:57 - loss: 0.9853 - acc: 0.8237\n",
            "Epoch 00004: val_acc improved from 0.80620 to 0.82366, saving model to model\n",
            "932/932 [==============================] - 190s 204ms/step - loss: 0.4929 - acc: 0.9497 - val_loss: 0.9853 - val_acc: 0.8237\n",
            "Epoch 5/25\n",
            "931/932 [============================>.] - ETA: 0s - loss: 0.3618 - acc: 0.9594Epoch 1/25\n",
            "233/932 [======>.......................] - ETA: 1:59 - loss: 1.1542 - acc: 0.7923\n",
            "Epoch 00005: val_acc did not improve from 0.82366\n",
            "932/932 [==============================] - 190s 204ms/step - loss: 0.3619 - acc: 0.9594 - val_loss: 1.1542 - val_acc: 0.7923\n",
            "Epoch 6/25\n",
            "931/932 [============================>.] - ETA: 0s - loss: 0.2790 - acc: 0.9650Epoch 1/25\n",
            "233/932 [======>.......................] - ETA: 1:57 - loss: 0.8602 - acc: 0.8274\n",
            "Epoch 00006: val_acc improved from 0.82366 to 0.82736, saving model to model\n",
            "932/932 [==============================] - 191s 205ms/step - loss: 0.2790 - acc: 0.9650 - val_loss: 0.8602 - val_acc: 0.8274\n",
            "Epoch 7/25\n",
            "931/932 [============================>.] - ETA: 0s - loss: 0.2146 - acc: 0.9703Epoch 1/25\n",
            "233/932 [======>.......................] - ETA: 1:58 - loss: 0.7955 - acc: 0.8387\n",
            "Epoch 00007: val_acc improved from 0.82736 to 0.83871, saving model to model\n",
            "932/932 [==============================] - 191s 205ms/step - loss: 0.2146 - acc: 0.9703 - val_loss: 0.7955 - val_acc: 0.8387\n",
            "Epoch 8/25\n",
            "931/932 [============================>.] - ETA: 0s - loss: 0.1723 - acc: 0.9732Epoch 1/25\n",
            "233/932 [======>.......................] - ETA: 1:59 - loss: 0.9000 - acc: 0.8225\n",
            "Epoch 00008: val_acc did not improve from 0.83871\n",
            "932/932 [==============================] - 191s 205ms/step - loss: 0.1722 - acc: 0.9732 - val_loss: 0.9000 - val_acc: 0.8225\n",
            "Epoch 9/25\n",
            "931/932 [============================>.] - ETA: 0s - loss: 0.1407 - acc: 0.9760Epoch 1/25\n",
            "233/932 [======>.......................] - ETA: 1:59 - loss: 0.8433 - acc: 0.8292\n",
            "Epoch 00009: val_acc did not improve from 0.83871\n",
            "932/932 [==============================] - 193s 207ms/step - loss: 0.1408 - acc: 0.9760 - val_loss: 0.8433 - val_acc: 0.8292\n",
            "Epoch 10/25\n",
            "931/932 [============================>.] - ETA: 0s - loss: 0.1174 - acc: 0.9782Epoch 1/25\n",
            "233/932 [======>.......................] - ETA: 2:00 - loss: 0.8493 - acc: 0.8384\n",
            "Epoch 00010: val_acc did not improve from 0.83871\n",
            "932/932 [==============================] - 193s 207ms/step - loss: 0.1174 - acc: 0.9782 - val_loss: 0.8493 - val_acc: 0.8384\n",
            "Epoch 11/25\n",
            "931/932 [============================>.] - ETA: 0s - loss: 0.0817 - acc: 0.9872Epoch 1/25\n",
            "233/932 [======>.......................] - ETA: 1:59 - loss: 0.8420 - acc: 0.8407\n",
            "Epoch 00011: val_acc improved from 0.83871 to 0.84065, saving model to model\n",
            "932/932 [==============================] - 192s 206ms/step - loss: 0.0817 - acc: 0.9872 - val_loss: 0.8420 - val_acc: 0.8407\n",
            "Epoch 12/25\n",
            "931/932 [============================>.] - ETA: 0s - loss: 0.0758 - acc: 0.9881Epoch 1/25\n",
            "233/932 [======>.......................] - ETA: 1:59 - loss: 0.8812 - acc: 0.8381\n",
            "Epoch 00012: val_acc did not improve from 0.84065\n",
            "932/932 [==============================] - 191s 205ms/step - loss: 0.0758 - acc: 0.9881 - val_loss: 0.8812 - val_acc: 0.8381\n",
            "Epoch 13/25\n",
            "931/932 [============================>.] - ETA: 0s - loss: 0.0715 - acc: 0.9886Epoch 1/25\n",
            "233/932 [======>.......................] - ETA: 1:58 - loss: 0.8450 - acc: 0.8429\n",
            "Epoch 00013: val_acc improved from 0.84065 to 0.84294, saving model to model\n",
            "932/932 [==============================] - 191s 205ms/step - loss: 0.0714 - acc: 0.9886 - val_loss: 0.8450 - val_acc: 0.8429\n",
            "Epoch 14/25\n",
            "931/932 [============================>.] - ETA: 0s - loss: 0.0649 - acc: 0.9904Epoch 1/25\n",
            "233/932 [======>.......................] - ETA: 1:56 - loss: 0.8483 - acc: 0.8455\n",
            "Epoch 00014: val_acc improved from 0.84294 to 0.84549, saving model to model\n",
            "932/932 [==============================] - 191s 205ms/step - loss: 0.0649 - acc: 0.9904 - val_loss: 0.8483 - val_acc: 0.8455\n",
            "Epoch 15/25\n",
            "931/932 [============================>.] - ETA: 0s - loss: 0.0657 - acc: 0.9900Epoch 1/25\n",
            "233/932 [======>.......................] - ETA: 1:56 - loss: 0.8586 - acc: 0.8415\n",
            "Epoch 00015: val_acc did not improve from 0.84549\n",
            "932/932 [==============================] - 190s 204ms/step - loss: 0.0657 - acc: 0.9900 - val_loss: 0.8586 - val_acc: 0.8415\n",
            "Epoch 16/25\n",
            "931/932 [============================>.] - ETA: 0s - loss: 0.0639 - acc: 0.9904Epoch 1/25\n",
            "233/932 [======>.......................] - ETA: 1:56 - loss: 0.8443 - acc: 0.8477\n",
            "Epoch 00016: val_acc improved from 0.84549 to 0.84770, saving model to model\n",
            "932/932 [==============================] - 194s 208ms/step - loss: 0.0640 - acc: 0.9904 - val_loss: 0.8443 - val_acc: 0.8477\n",
            "Epoch 17/25\n",
            "931/932 [============================>.] - ETA: 0s - loss: 0.0631 - acc: 0.9906Epoch 1/25\n",
            "233/932 [======>.......................] - ETA: 1:55 - loss: 0.8638 - acc: 0.8449\n",
            "Epoch 00017: val_acc did not improve from 0.84770\n",
            "932/932 [==============================] - 188s 201ms/step - loss: 0.0632 - acc: 0.9906 - val_loss: 0.8638 - val_acc: 0.8449\n",
            "Epoch 18/25\n",
            "931/932 [============================>.] - ETA: 0s - loss: 0.0630 - acc: 0.9909Epoch 1/25\n",
            "233/932 [======>.......................] - ETA: 1:57 - loss: 0.8509 - acc: 0.8463\n",
            "Epoch 00018: val_acc did not improve from 0.84770\n",
            "932/932 [==============================] - 188s 201ms/step - loss: 0.0631 - acc: 0.9909 - val_loss: 0.8509 - val_acc: 0.8463\n",
            "Epoch 19/25\n",
            "931/932 [============================>.] - ETA: 0s - loss: 0.0634 - acc: 0.9899Epoch 1/25\n",
            "233/932 [======>.......................] - ETA: 1:55 - loss: 0.8609 - acc: 0.8446\n",
            "Epoch 00019: val_acc did not improve from 0.84770\n",
            "932/932 [==============================] - 188s 202ms/step - loss: 0.0633 - acc: 0.9899 - val_loss: 0.8609 - val_acc: 0.8446\n",
            "Epoch 20/25\n",
            "931/932 [============================>.] - ETA: 0s - loss: 0.0612 - acc: 0.9912Epoch 1/25\n",
            "233/932 [======>.......................] - ETA: 1:55 - loss: 0.8715 - acc: 0.8443\n",
            "Epoch 00020: val_acc did not improve from 0.84770\n",
            "932/932 [==============================] - 187s 200ms/step - loss: 0.0612 - acc: 0.9912 - val_loss: 0.8715 - val_acc: 0.8443\n",
            "Epoch 21/25\n",
            "931/932 [============================>.] - ETA: 0s - loss: 0.0627 - acc: 0.9904Epoch 1/25\n",
            "233/932 [======>.......................] - ETA: 1:57 - loss: 0.8586 - acc: 0.8459\n",
            "Epoch 00021: val_acc did not improve from 0.84770\n",
            "932/932 [==============================] - 189s 203ms/step - loss: 0.0627 - acc: 0.9904 - val_loss: 0.8586 - val_acc: 0.8459\n",
            "Epoch 22/25\n",
            "931/932 [============================>.] - ETA: 0s - loss: 0.0626 - acc: 0.9908Epoch 1/25\n",
            "233/932 [======>.......................] - ETA: 1:57 - loss: 0.8712 - acc: 0.8423\n",
            "Epoch 00022: val_acc did not improve from 0.84770\n",
            "932/932 [==============================] - 189s 203ms/step - loss: 0.0626 - acc: 0.9908 - val_loss: 0.8712 - val_acc: 0.8423\n",
            "Epoch 23/25\n",
            "931/932 [============================>.] - ETA: 0s - loss: 0.0622 - acc: 0.9908Epoch 1/25\n",
            "233/932 [======>.......................] - ETA: 1:55 - loss: 0.8695 - acc: 0.8428\n",
            "Epoch 00023: val_acc did not improve from 0.84770\n",
            "932/932 [==============================] - 188s 202ms/step - loss: 0.0621 - acc: 0.9908 - val_loss: 0.8695 - val_acc: 0.8428\n",
            "Epoch 24/25\n",
            "931/932 [============================>.] - ETA: 0s - loss: 0.0618 - acc: 0.9909Epoch 1/25\n",
            "233/932 [======>.......................] - ETA: 1:54 - loss: 0.8681 - acc: 0.8444\n",
            "Epoch 00024: val_acc did not improve from 0.84770\n",
            "932/932 [==============================] - 186s 200ms/step - loss: 0.0618 - acc: 0.9909 - val_loss: 0.8681 - val_acc: 0.8444\n",
            "Epoch 25/25\n",
            "931/932 [============================>.] - ETA: 0s - loss: 0.0622 - acc: 0.9908Epoch 1/25\n",
            "233/932 [======>.......................] - ETA: 1:56 - loss: 0.8746 - acc: 0.8447\n",
            "Epoch 00025: val_acc did not improve from 0.84770\n",
            "932/932 [==============================] - 187s 201ms/step - loss: 0.0622 - acc: 0.9908 - val_loss: 0.8746 - val_acc: 0.8447\n"
          ],
          "name": "stdout"
        }
      ]
    },
    {
      "cell_type": "markdown",
      "metadata": {
        "id": "fSoZJufayWRq",
        "colab_type": "text"
      },
      "source": [
        ""
      ]
    },
    {
      "cell_type": "code",
      "metadata": {
        "id": "Qvu8W0S3SQrC",
        "colab_type": "code",
        "colab": {
          "base_uri": "https://localhost:8080/",
          "height": 573
        },
        "outputId": "4608e4a4-d9ce-4c36-ba0b-50475c6e23b6"
      },
      "source": [
        "#Grafico para la precisión\n",
        "plt.plot(history.history['acc'])\n",
        "plt.plot(history.history['val_acc'])\n",
        "plt.title(\"Accuracy\")\n",
        "plt.xlabel('epoch')\n",
        "plt.ylabel('accuracy')\n",
        "plt.legend(['train','test'])\n",
        "plt.show()\n",
        "\n",
        "#Grafico para la perdiada\n",
        "plt.plot(history.history['loss'])\n",
        "plt.plot(history.history['val_loss'])\n",
        "plt.title(\"Loss\")\n",
        "plt.xlabel('epoch')\n",
        "plt.ylabel('loss')\n",
        "plt.legend(['train','test'])\n",
        "plt.show()"
      ],
      "execution_count": 12,
      "outputs": [
        {
          "output_type": "display_data",
          "data": {
            "image/png": "[encoded data removed]",
            "text/plain": [
              "<Figure size 432x288 with 1 Axes>"
            ]
          },
          "metadata": {
            "tags": []
          }
        },
        {
          "output_type": "display_data",
          "data": {
            "image/png": "[encoded data removed]",
            "text/plain": [
              "<Figure size 432x288 with 1 Axes>"
            ]
          },
          "metadata": {
            "tags": []
          }
        }
      ]
    }
  ]
}